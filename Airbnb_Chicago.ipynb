{
 "cells": [
  {
   "cell_type": "code",
   "execution_count": 13,
   "metadata": {},
   "outputs": [
    {
     "data": {
      "text/plain": [
       "id                                                                                           2384\n",
       "listing_url                                                     https://www.airbnb.com/rooms/2384\n",
       "scrape_id                                                                          20210710185946\n",
       "last_scraped                                                                           2021-07-11\n",
       "name                                                    Hyde Park - Walk to University of Chicago\n",
       "description                                     If you have been fully vaccinated, you are inv...\n",
       "neighborhood_overview                           The apartment is less than one block from beau...\n",
       "picture_url                                     https://a0.muscache.com/pictures/acf6b3c0-47f2...\n",
       "host_id                                                                                      2613\n",
       "host_url                                                   https://www.airbnb.com/users/show/2613\n",
       "host_name                                                                                 Rebecca\n",
       "host_since                                                                             2008-08-29\n",
       "host_location                                                    Chicago, Illinois, United States\n",
       "host_about                                      My 2 bdrm apartment is a 2nd floor walk-up in ...\n",
       "host_response_time                                                                 within an hour\n",
       "host_response_rate                                                                           100%\n",
       "host_acceptance_rate                                                                          93%\n",
       "host_is_superhost                                                                               t\n",
       "host_thumbnail_url                              https://a0.muscache.com/im/pictures/user/8bb47...\n",
       "host_picture_url                                https://a0.muscache.com/im/pictures/user/8bb47...\n",
       "host_neighbourhood                                                                      Hyde Park\n",
       "host_listings_count                                                                             1\n",
       "host_total_listings_count                                                                       1\n",
       "host_verifications                              ['email', 'phone', 'reviews', 'manual_offline'...\n",
       "host_has_profile_pic                                                                            t\n",
       "host_identity_verified                                                                          t\n",
       "neighbourhood                                                    Chicago, Illinois, United States\n",
       "neighbourhood_cleansed                                                                  Hyde Park\n",
       "neighbourhood_group_cleansed                                                                  NaN\n",
       "latitude                                                                                  41.7879\n",
       "                                                                      ...                        \n",
       "minimum_maximum_nights                                                                         90\n",
       "maximum_maximum_nights                                                                         90\n",
       "minimum_nights_avg_ntm                                                                          2\n",
       "maximum_nights_avg_ntm                                                                         90\n",
       "calendar_updated                                                                              NaN\n",
       "has_availability                                                                                t\n",
       "availability_30                                                                                10\n",
       "availability_60                                                                                33\n",
       "availability_90                                                                                63\n",
       "availability_365                                                                              338\n",
       "calendar_last_scraped                                                                  2021-07-11\n",
       "number_of_reviews                                                                             185\n",
       "number_of_reviews_ltm                                                                           7\n",
       "number_of_reviews_l30d                                                                          2\n",
       "first_review                                                                           2015-04-30\n",
       "last_review                                                                            2021-06-21\n",
       "review_scores_rating                                                                         4.99\n",
       "review_scores_accuracy                                                                       4.98\n",
       "review_scores_cleanliness                                                                    4.99\n",
       "review_scores_checkin                                                                        4.98\n",
       "review_scores_communication                                                                  4.98\n",
       "review_scores_location                                                                       4.95\n",
       "review_scores_value                                                                          4.94\n",
       "license                                                                              R17000015609\n",
       "instant_bookable                                                                                f\n",
       "calculated_host_listings_count                                                                  1\n",
       "calculated_host_listings_count_entire_homes                                                     0\n",
       "calculated_host_listings_count_private_rooms                                                    1\n",
       "calculated_host_listings_count_shared_rooms                                                     0\n",
       "reviews_per_month                                                                            2.45\n",
       "Name: 0, Length: 74, dtype: object"
      ]
     },
     "execution_count": 13,
     "metadata": {},
     "output_type": "execute_result"
    }
   ],
   "source": [
    "import csv\n",
    "import pandas as pd\n",
    "\n",
    "df = pd.read_csv ('listings.csv')\n",
    "df.index\n",
    "df.loc[0,:]\n",
    "#RangeIndex(start=0, stop=6366, step=1)\n"
   ]
  },
  {
   "cell_type": "code",
   "execution_count": null,
   "metadata": {
    "collapsed": true
   },
   "outputs": [],
   "source": []
  }
 ],
 "metadata": {
  "kernelspec": {
   "display_name": "Python 3",
   "language": "python",
   "name": "python3"
  },
  "language_info": {
   "codemirror_mode": {
    "name": "ipython",
    "version": 3
   },
   "file_extension": ".py",
   "mimetype": "text/x-python",
   "name": "python",
   "nbconvert_exporter": "python",
   "pygments_lexer": "ipython3",
   "version": "3.5.4"
  }
 },
 "nbformat": 4,
 "nbformat_minor": 2
}
